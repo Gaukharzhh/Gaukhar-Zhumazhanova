{
 "cells": [
  {
   "cell_type": "markdown",
   "metadata": {},
   "source": [
    "Id number: 180201014 Marketing "
   ]
  },
  {
   "cell_type": "code",
   "execution_count": 1,
   "metadata": {},
   "outputs": [],
   "source": [
    "import re"
   ]
  },
  {
   "cell_type": "code",
   "execution_count": null,
   "metadata": {},
   "outputs": [],
   "source": [
    "print('Welcome to the ZZZ ATM')\n",
    "restart=('y','yes','Y','Yes')\n",
    "chances = 3\n",
    "balance = 9999\n",
    "while chances >= 0:\n",
    "    password = int(input('Please Enter You password: '))\n",
    "    if ('Password>999 or Password<9999'):\n",
    "        print('Your password is Correct\\n')\n",
    "        while restart not in ('n','NO','no','N','Not','not'):\n",
    "            print('Press 1 For Current Balance \\n')\n",
    "            print('Press 2 To Withdrawl \\n')\n",
    "            print('Press 3 To Deposit \\n')\n",
    "            print('Press 4 To Exit \\n')\n",
    "            option = int(input('Choose your option'))\n",
    "            if option == 1:\n",
    "                print('Your Current Balance is $',balance,'\\n')\n",
    "                restart = input('Would You you like to return to the menu? ')\n",
    "                if restart in ('n','NO','no','N','Not','not'):\n",
    "                    print('Thank You')\n",
    "                    break\n",
    "            elif option == 2:\n",
    "                option2 = ('y','yes','Y','Yes')\n",
    "                withdrawl = float(input('Amount of withdraw \\n$10/$30/$50/$70/$90/$100: '))\n",
    "                if withdrawl in [10, 30, 50, 70, 90, 100]:\n",
    "                    balance = balance - withdrawl\n",
    "                    print ('\\nYour Updated Balance is now $',balance)\n",
    "                    restart = input('Would You you like to return to the menu? ')\n",
    "                    if restart in ('n','NO','no','N','Not','not'):\n",
    "                        print('Thank You')\n",
    "                        break\n",
    "                elif withdrawl != [10, 30, 50, 70, 90, 100]:\n",
    "                    print('Error, Please Re-enter\\n')\n",
    "                    restart = ('y','yes','Y','Yes')\n",
    "                elif withdrawl == 1:\n",
    "                    withdrawl = float(input('Enter your Withdrawal amount:'))    \n",
    "\n",
    "            elif option == 3:\n",
    "                Deposit = float(input('Amount of deposit '))\n",
    "                balance = balance + Deposit\n",
    "                print ('\\nYour Updated Balance is now $',balance)\n",
    "                restart = input('Would You you like to return to the menu? ')\n",
    "                if restart in ('n','NO','no','N','Not','not'):\n",
    "                    print('Thank You')\n",
    "                    break\n",
    "            elif option == 4:\n",
    "                print('Take a card first, please...\\n')\n",
    "                print('Thank you for choosing our Bank')\n",
    "                break\n",
    "            else:\n",
    "                print('Please Enter a correct number. \\n')\n",
    "                restart = ('y')\n",
    "    elif password != ('Password>999 or Password<9999'):\n",
    "        print('Incorrect Password')\n",
    "        chances = chances - 1\n",
    "        if chances == 0:\n",
    "            print('\\nInvalid! Try later!!!')\n",
    "            break"
   ]
  },
  {
   "cell_type": "code",
   "execution_count": null,
   "metadata": {},
   "outputs": [],
   "source": []
  }
 ],
 "metadata": {
  "kernelspec": {
   "display_name": "Python 3",
   "language": "python",
   "name": "python3"
  }
 },
 "nbformat": 4,
 "nbformat_minor": 2
}
