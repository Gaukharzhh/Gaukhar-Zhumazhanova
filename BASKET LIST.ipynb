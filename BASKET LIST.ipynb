{
 "cells": [
  {
   "cell_type": "markdown",
   "metadata": {},
   "source": [
    "# Zhumazhanova Gaukhar's assignment "
   ]
  },
  {
   "cell_type": "code",
   "execution_count": 3,
   "metadata": {},
   "outputs": [
    {
     "name": "stdout",
     "output_type": "stream",
     "text": [
      "Hamburger:3\n",
      "Coke:1\n",
      "Fanta:2\n",
      "Fries:2\n",
      "Cheese bools:1\n",
      "Assortment Basket List\n",
      "-------------------------------\n",
      "1: Add food to the order\n",
      "2: Remove food\n",
      "3: Show my order\n",
      "4: Cancel\n",
      "\n",
      "Selection:1\n",
      "Choose food to add:apple\n",
      "How many pieces?:2\n",
      "\n",
      "\n",
      "Selection:2\n",
      "Choose food to delete:Fanta\n",
      "\n",
      "\n",
      "Selection:3\n",
      "Hamburger : 3\n",
      "Coke : 1\n",
      "Fries : 2\n",
      "Cheese bools : 1\n",
      "apple : 2\n",
      "\n",
      "\n",
      "Selection:4\n",
      "Order is complete\n"
     ]
    }
   ],
   "source": [
    "Assortment_Basket={\"Hamburger\":3, \n",
    "                   \"Coke\":1,\n",
    "                   \"Fanta\":2,\n",
    "                   \"Fries\":2, \n",
    "                   \"Cheese bools\":1}\n",
    "print(\"Hamburger:3\\nCoke:1\\nFanta:2\\nFries:2\\nCheese bools:1\")\n",
    "print('''Assortment Basket List\n",
    "-------------------------------\n",
    "1: Add food to the order\n",
    "2: Remove food\n",
    "3: Show my order\n",
    "4: Cancel\n",
    "''')\n",
    "selection = int(input(\"Selection:\"))\n",
    "while selection !=4:\n",
    "    if selection==1:\n",
    "        food=input(\"Choose food to add:\")\n",
    "        \n",
    "        if food in Assortment_Basket:\n",
    "            print(\"You already order this food\")\n",
    "            pieces=int(input(\"How many pieces?:\"))\n",
    "            Assortment_Basket[food]=Assortment_Basket[food]+pieces\n",
    "        else: \n",
    "            pieces=int(input(\"How many pieces?:\"))\n",
    "            Assortment_Basket[food]=pieces\n",
    "    elif selection==2:\n",
    "        food=input(\"Choose food to delete:\")\n",
    "        del(Assortment_Basket[food])\n",
    "    elif selection==3:\n",
    "        for food in Assortment_Basket:\n",
    "            print(food, \":\", Assortment_Basket[food])\n",
    "    elif selection!=4:\n",
    "        print(\"You choose the invalid option\" )\n",
    "    \n",
    "    selection=int(input(\"\\n\\nSelection:\"))\n",
    "else:\n",
    "    print(\"Order is complete\")"
   ]
  },
  {
   "cell_type": "code",
   "execution_count": null,
   "metadata": {},
   "outputs": [],
   "source": []
  }
 ],
 "metadata": {
  "kernelspec": {
   "display_name": "Python 3",
   "language": "python",
   "name": "python3"
  },
  "language_info": {
   "codemirror_mode": {
    "name": "ipython",
    "version": 3
   },
   "file_extension": ".py",
   "mimetype": "text/x-python",
   "name": "python",
   "nbconvert_exporter": "python",
   "pygments_lexer": "ipython3",
   "version": "3.7.4"
  }
 },
 "nbformat": 4,
 "nbformat_minor": 2
}
